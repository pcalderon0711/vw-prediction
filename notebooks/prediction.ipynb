{
 "cells": [
  {
   "cell_type": "markdown",
   "metadata": {},
   "source": [
    "# Attempts on Success Prediction from VW Post Content\n",
    "\n",
    "There are two approaches we can do to try to predict success: regression and classification.\n",
    "\n",
    "## 1. Regression\n",
    "X = similarity of a post with the dimensions\n",
    "\n",
    "y = success score\n",
    "\n",
    "We will try two models: Linear Regression and a Fully-Connected Neural Network\n",
    "\n",
    "## 2. Classification\n",
    "\n",
    "### 2.1 Simple Models\n",
    "X = similarity of a post with the dimensions\n",
    "\n",
    "y = 0/1 (1 if post is successful, i.e. success > 208, the mean of the data after removing top 10% and bottom 10%)\n",
    "\n",
    "We will try logistic regression and FCNN.\n",
    "\n",
    "### 2.2 More Complicated Models\n",
    "We will try two LSTM architectures in this part. We cut each post to the first 50 tokens.\n",
    "\n",
    "**LSTM1** : Use the embedding vectors of each the words as input to the LSTM, then pass into a sequence of fully connected layers.\n",
    "\n",
    "**LSTM2** : Use embedding vectors as input to the LSTM, concatenate dimension similarity vector with the output of the LSTM, then pass the concatenated vector into a sequence of fully connected layers."
   ]
  },
  {
   "cell_type": "code",
   "execution_count": 1,
   "metadata": {
    "collapsed": true
   },
   "outputs": [],
   "source": [
    "import operator, re, os\n",
    "import numpy as np\n",
    "import pandas as pd\n",
    "import matplotlib\n",
    "import matplotlib.pyplot as plt\n",
    "import matplotlib.patches as mpatches\n",
    "import seaborn as sns\n",
    "from neurotools.io.files import load_embedding_model\n",
    "from neurotools.io.gdrive import download_sheets_doc\n",
    "from neurotools.plot import figure\n",
    "from sklearn.feature_extraction.text import TfidfVectorizer\n",
    "from neurotools.language.simple_tokenizer import SimpleTokenizer\n",
    "from wordcloud import WordCloud\n",
    "from googletrans import Translator\n",
    "import itertools\n",
    "import ast\n",
    "from neurotools.io.gdrive import download_sheets_doc\n",
    "from sklearn.metrics import classification_report, confusion_matrix\n",
    "%matplotlib inline"
   ]
  },
  {
   "cell_type": "code",
   "execution_count": 2,
   "metadata": {
    "collapsed": true
   },
   "outputs": [],
   "source": [
    "from sklearn.linear_model import LinearRegression, LogisticRegressionCV\n",
    "from sklearn.model_selection import train_test_split"
   ]
  },
  {
   "cell_type": "code",
   "execution_count": 87,
   "metadata": {},
   "outputs": [],
   "source": [
    "from keras.models import Sequential\n",
    "from keras.layers import Dense, Dropout, LSTM, concatenate\n",
    "from keras.callbacks import EarlyStopping"
   ]
  },
  {
   "cell_type": "code",
   "execution_count": 4,
   "metadata": {
    "collapsed": true
   },
   "outputs": [],
   "source": [
    "sns.set_style(\"white\")"
   ]
  },
  {
   "cell_type": "code",
   "execution_count": 5,
   "metadata": {
    "collapsed": true
   },
   "outputs": [],
   "source": [
    "import matplotlib as mpl\n",
    "mpl.rc('font',family='Open Sans')"
   ]
  },
  {
   "cell_type": "markdown",
   "metadata": {},
   "source": [
    "# Load tokenizer, embedding, etc."
   ]
  },
  {
   "cell_type": "code",
   "execution_count": 6,
   "metadata": {},
   "outputs": [
    {
     "name": "stdout",
     "output_type": "stream",
     "text": [
      "Extra characters read for pl\n",
      "Stopwords set read for pl\n",
      "Lemma lookup read for pl\n"
     ]
    }
   ],
   "source": [
    "tokenizer = SimpleTokenizer('pl') "
   ]
  },
  {
   "cell_type": "code",
   "execution_count": 7,
   "metadata": {
    "collapsed": true
   },
   "outputs": [],
   "source": [
    "emb, word2rank_dict = load_embedding_model('../../vw-impact/utils/pl_pl_commoncrawl_v3.bin')"
   ]
  },
  {
   "cell_type": "code",
   "execution_count": 8,
   "metadata": {
    "collapsed": true
   },
   "outputs": [],
   "source": [
    "def get_average_vector(words, emb):\n",
    "    \"\"\"\n",
    "        Average the word vectors of a list of words.\n",
    "    \"\"\"\n",
    "    words_in_emb = [emb[word] for word in words if word in emb.vocab.keys() and word not in ['bezpieczeństwo', 'pistolet']]\n",
    "    return np.mean(words_in_emb, axis=0)"
   ]
  },
  {
   "cell_type": "code",
   "execution_count": 9,
   "metadata": {
    "collapsed": true
   },
   "outputs": [],
   "source": [
    "def get_idf_map(documents):\n",
    "    tfidf = TfidfVectorizer(use_idf=True)\n",
    "    tfidf.fit_transform(documents)\n",
    "    word_to_idf = dict((x[0], tfidf.idf_[x[1]]) for x in sorted(tfidf.vocabulary_.items(), key=operator.itemgetter(1)))\n",
    "    return word_to_idf"
   ]
  },
  {
   "cell_type": "code",
   "execution_count": 10,
   "metadata": {
    "collapsed": true
   },
   "outputs": [],
   "source": [
    "def get_idf_weighted_average_vector(words, word_to_idf, emb):\n",
    "    \"\"\"\n",
    "        Average the idf-weighted word vectors of a list of words. (Map this function to every document)\n",
    "    \"\"\"\n",
    "    # only consider words IN embedding model and in TFIDF vectorizer\n",
    "    words = [word for word in words if word in word_to_idf.keys() and word in emb.vocab.keys() and word not in ['bezpieczeństwo', 'pistolet']]\n",
    "    weighted = [word_to_idf[word] * emb[word] for word in words]\n",
    "    return np.mean(weighted, axis=0)"
   ]
  },
  {
   "cell_type": "code",
   "execution_count": 11,
   "metadata": {
    "collapsed": true
   },
   "outputs": [],
   "source": [
    "def cosine_similarity(a,b):\n",
    "    \"\"\"\n",
    "        Compute the cosine similarity of a and b.\n",
    "    \"\"\"\n",
    "    return np.dot(a,b) / ( (np.dot(a,a) **.5) * (np.dot(b,b) ** .5) )"
   ]
  },
  {
   "cell_type": "code",
   "execution_count": 12,
   "metadata": {
    "collapsed": true
   },
   "outputs": [],
   "source": [
    "def get_similarity_with_dimensions(row, dimensions):\n",
    "    \"\"\"\n",
    "        Get similarity of row's word vector and every dimension.\n",
    "        row : row of the movie dataframe\n",
    "        dimensions : dataframe containing Neuroflash dimensions\n",
    "    \"\"\"\n",
    "    for k in range(dimensions['dimension'].shape[0]):\n",
    "        name = str(dimensions['en_label'].iloc[k])\n",
    "        # define a new column for the cosine similarity of dimension k and the post text\n",
    "        row[name] = cosine_similarity(row['wv'], dimensions['dimension'].iloc[k])\n",
    "    return row"
   ]
  },
  {
   "cell_type": "code",
   "execution_count": null,
   "metadata": {
    "collapsed": true
   },
   "outputs": [],
   "source": []
  },
  {
   "cell_type": "code",
   "execution_count": null,
   "metadata": {
    "collapsed": true
   },
   "outputs": [],
   "source": []
  },
  {
   "cell_type": "markdown",
   "metadata": {},
   "source": [
    "# 1. Regression using Lin Regression and MLP"
   ]
  },
  {
   "cell_type": "code",
   "execution_count": 290,
   "metadata": {
    "collapsed": true
   },
   "outputs": [],
   "source": [
    "vw = pd.read_csv('../processed/processed_volkswagenpolska.csv')"
   ]
  },
  {
   "cell_type": "code",
   "execution_count": 331,
   "metadata": {
    "collapsed": true
   },
   "outputs": [],
   "source": [
    "vw = vw[['Trendy',\n",
    "       'Kind', 'Polite', 'Warm', 'Diligent', 'Blue_Collar', 'White_Collar',\n",
    "       'Protective', 'Serious', 'Funny', 'Pleasant', 'Beautiful', 'Alive',\n",
    "       'Above', 'Descriptive', 'Cheap', 'Expensive', 'Big', 'Small', 'Modern',\n",
    "       'Traditional', 'Appealing', 'Sustainable', 'Practical', 'Active',\n",
    "       'Easy', 'Trustworthy', 'Natural', 'Arts', 'Career', 'Family', 'Female',\n",
    "       'Male', 'Math', 'Science', 'Open', 'Cool', 'Likeable', 'Children',\n",
    "       'Community', 'Culture', 'Design', 'Innovative', 'Responsible',\n",
    "       'Extroverted', 'Fascination', 'Friendship', 'Functionality', 'Winner',\n",
    "       'Lifestyle', 'Music', 'New', 'Bargain', 'Power', 'Safety', 'Teaching',\n",
    "       'Technical', 'Valuable', 'Feel Good', 'Support', 'Inspire', 'Happiness',\n",
    "       'Celebrate', 'Meaningful', 'success']]"
   ]
  },
  {
   "cell_type": "code",
   "execution_count": 332,
   "metadata": {
    "collapsed": true
   },
   "outputs": [],
   "source": [
    "vw = vw[~vw['Trendy'].isnull()]"
   ]
  },
  {
   "cell_type": "code",
   "execution_count": 333,
   "metadata": {
    "collapsed": true
   },
   "outputs": [],
   "source": [
    "y = vw['success']"
   ]
  },
  {
   "cell_type": "code",
   "execution_count": 334,
   "metadata": {
    "collapsed": true
   },
   "outputs": [],
   "source": [
    "retain = (y[~pd.qcut(y, 10, labels=range(10)).isin([0,9])]).index"
   ]
  },
  {
   "cell_type": "code",
   "execution_count": 335,
   "metadata": {
    "collapsed": true
   },
   "outputs": [],
   "source": [
    "X = vw.loc[retain,:].iloc[:,:-1]\n",
    "y = vw.loc[retain,:].iloc[:,-1]\n",
    "# logy = np.log(y)"
   ]
  },
  {
   "cell_type": "code",
   "execution_count": 337,
   "metadata": {
    "collapsed": true
   },
   "outputs": [],
   "source": [
    "X_train, X_test, y_train, y_test = train_test_split(X, y, test_size=0.20, random_state=42)"
   ]
  },
  {
   "cell_type": "markdown",
   "metadata": {},
   "source": [
    "## 1.1 Linear Regression"
   ]
  },
  {
   "cell_type": "code",
   "execution_count": 338,
   "metadata": {
    "collapsed": true
   },
   "outputs": [],
   "source": [
    "lr = LinearRegression()"
   ]
  },
  {
   "cell_type": "code",
   "execution_count": 339,
   "metadata": {},
   "outputs": [
    {
     "data": {
      "text/plain": [
       "LinearRegression(copy_X=True, fit_intercept=True, n_jobs=1, normalize=False)"
      ]
     },
     "execution_count": 339,
     "metadata": {},
     "output_type": "execute_result"
    }
   ],
   "source": [
    "lr.fit(X_train, y_train)"
   ]
  },
  {
   "cell_type": "code",
   "execution_count": 340,
   "metadata": {},
   "outputs": [
    {
     "data": {
      "text/plain": [
       "0.11279695387314803"
      ]
     },
     "execution_count": 340,
     "metadata": {},
     "output_type": "execute_result"
    }
   ],
   "source": [
    "lr.score(X_train, y_train)"
   ]
  },
  {
   "cell_type": "code",
   "execution_count": 341,
   "metadata": {
    "scrolled": true
   },
   "outputs": [
    {
     "data": {
      "text/plain": [
       "0.034201241371870195"
      ]
     },
     "execution_count": 341,
     "metadata": {},
     "output_type": "execute_result"
    }
   ],
   "source": [
    "lr.score(X_test, y_test)"
   ]
  },
  {
   "cell_type": "code",
   "execution_count": 342,
   "metadata": {
    "scrolled": false
   },
   "outputs": [
    {
     "data": {
      "text/plain": [
       "(-64.0, 1344.0, -401.3974343887023, 258.1500786533325)"
      ]
     },
     "execution_count": 342,
     "metadata": {},
     "output_type": "execute_result"
    },
    {
     "data": {
      "image/png": "[encoded data removed]",
      "text/plain": [
       "<matplotlib.figure.Figure at 0x19f0555f8>"
      ]
     },
     "metadata": {},
     "output_type": "display_data"
    }
   ],
   "source": [
    "plt.plot(lr.predict(X_train).reshape(-1)- y_train.values, color='blue', label='train')\n",
    "plt.plot(lr.predict(X_test).reshape(-1)-y_test.values, color='red', label='test')\n",
    "plt.legend()\n",
    "plt.axis('equal')"
   ]
  },
  {
   "cell_type": "code",
   "execution_count": 343,
   "metadata": {},
   "outputs": [
    {
     "name": "stdout",
     "output_type": "stream",
     "text": [
      "206.30366900858704\n",
      "211.8785046728972\n"
     ]
    }
   ],
   "source": [
    "print(y_train.mean())\n",
    "print(y_test.mean())"
   ]
  },
  {
   "cell_type": "markdown",
   "metadata": {},
   "source": [
    "High residuals. Model did not generalize to the test set!"
   ]
  },
  {
   "cell_type": "markdown",
   "metadata": {},
   "source": [
    "## 1.2 Neural Network"
   ]
  },
  {
   "cell_type": "code",
   "execution_count": 344,
   "metadata": {
    "collapsed": true
   },
   "outputs": [],
   "source": [
    "model = Sequential()\n",
    "model.add(Dense(32, input_shape = (X_train.shape[1],)))\n",
    "model.add(Dropout(0.5))\n",
    "model.add(Dense(8))\n",
    "model.add(Dropout(0.5))\n",
    "model.add(Dense(1))\n",
    "model.compile(loss='mean_squared_error', optimizer='adam')"
   ]
  },
  {
   "cell_type": "code",
   "execution_count": 345,
   "metadata": {},
   "outputs": [
    {
     "name": "stdout",
     "output_type": "stream",
     "text": [
      "_________________________________________________________________\n",
      "Layer (type)                 Output Shape              Param #   \n",
      "=================================================================\n",
      "dense_44 (Dense)             (None, 32)                2080      \n",
      "_________________________________________________________________\n",
      "dropout_47 (Dropout)         (None, 32)                0         \n",
      "_________________________________________________________________\n",
      "dense_45 (Dense)             (None, 8)                 264       \n",
      "_________________________________________________________________\n",
      "dropout_48 (Dropout)         (None, 8)                 0         \n",
      "_________________________________________________________________\n",
      "dense_46 (Dense)             (None, 1)                 9         \n",
      "=================================================================\n",
      "Total params: 2,353\n",
      "Trainable params: 2,353\n",
      "Non-trainable params: 0\n",
      "_________________________________________________________________\n"
     ]
    }
   ],
   "source": [
    "model.summary()"
   ]
  },
  {
   "cell_type": "code",
   "execution_count": 346,
   "metadata": {
    "scrolled": true
   },
   "outputs": [
    {
     "name": "stdout",
     "output_type": "stream",
     "text": [
      "Epoch 1/250\n",
      "1281/1281 [==============================] - 2s 2ms/step - loss: 54290.7075\n",
      "Epoch 2/250\n",
      "1281/1281 [==============================] - 0s 41us/step - loss: 53226.7251\n",
      "Epoch 3/250\n",
      "1281/1281 [==============================] - 0s 40us/step - loss: 51753.9687\n",
      "Epoch 4/250\n",
      "1281/1281 [==============================] - 0s 39us/step - loss: 49464.9914\n",
      "Epoch 5/250\n",
      "1281/1281 [==============================] - 0s 48us/step - loss: 46283.5251\n",
      "Epoch 6/250\n",
      "1281/1281 [==============================] - 0s 46us/step - loss: 42214.1269\n",
      "Epoch 7/250\n",
      "1281/1281 [==============================] - 0s 49us/step - loss: 37286.6825\n",
      "Epoch 8/250\n",
      "1281/1281 [==============================] - 0s 39us/step - loss: 32346.7834\n",
      "Epoch 9/250\n",
      "1281/1281 [==============================] - 0s 42us/step - loss: 27516.2589\n",
      "Epoch 10/250\n",
      "1281/1281 [==============================] - 0s 36us/step - loss: 25497.9089\n",
      "Epoch 11/250\n",
      "1281/1281 [==============================] - 0s 43us/step - loss: 24449.0477\n",
      "Epoch 12/250\n",
      "1281/1281 [==============================] - 0s 33us/step - loss: 24253.4585\n",
      "Epoch 13/250\n",
      "1281/1281 [==============================] - 0s 41us/step - loss: 23729.3816\n",
      "Epoch 14/250\n",
      "1281/1281 [==============================] - 0s 33us/step - loss: 23464.6343\n",
      "Epoch 15/250\n",
      "1281/1281 [==============================] - 0s 34us/step - loss: 22984.3092\n",
      "Epoch 16/250\n",
      "1281/1281 [==============================] - 0s 69us/step - loss: 23489.8534\n",
      "Epoch 17/250\n",
      "1281/1281 [==============================] - 0s 54us/step - loss: 22286.5433\n",
      "Epoch 18/250\n",
      "1281/1281 [==============================] - 0s 46us/step - loss: 23670.0946\n",
      "Epoch 19/250\n",
      "1281/1281 [==============================] - 0s 47us/step - loss: 23496.1511\n",
      "Epoch 20/250\n",
      "1281/1281 [==============================] - 0s 44us/step - loss: 23033.2288\n",
      "Epoch 21/250\n",
      "1281/1281 [==============================] - 0s 46us/step - loss: 23024.1080\n",
      "Epoch 22/250\n",
      "1281/1281 [==============================] - 0s 52us/step - loss: 21930.7579\n",
      "Epoch 23/250\n",
      "1281/1281 [==============================] - 0s 45us/step - loss: 22076.6334\n",
      "Epoch 24/250\n",
      "1281/1281 [==============================] - 0s 46us/step - loss: 22257.4119\n",
      "Epoch 25/250\n",
      "1281/1281 [==============================] - 0s 46us/step - loss: 21890.7679\n",
      "Epoch 26/250\n",
      "1281/1281 [==============================] - 0s 38us/step - loss: 21963.9560\n",
      "Epoch 27/250\n",
      "1281/1281 [==============================] - 0s 49us/step - loss: 22245.1858\n",
      "Epoch 28/250\n",
      "1281/1281 [==============================] - 0s 43us/step - loss: 21873.0176\n",
      "Epoch 29/250\n",
      "1281/1281 [==============================] - 0s 46us/step - loss: 23014.5952\n",
      "Epoch 30/250\n",
      "1281/1281 [==============================] - 0s 50us/step - loss: 22937.0006\n",
      "Epoch 31/250\n",
      "1281/1281 [==============================] - 0s 45us/step - loss: 22455.5793\n",
      "Epoch 32/250\n",
      "1281/1281 [==============================] - 0s 51us/step - loss: 22149.0010\n",
      "Epoch 33/250\n",
      "1281/1281 [==============================] - 0s 39us/step - loss: 21866.6983\n",
      "Epoch 34/250\n",
      "1281/1281 [==============================] - 0s 46us/step - loss: 21377.1965\n",
      "Epoch 35/250\n",
      "1281/1281 [==============================] - 0s 32us/step - loss: 21744.4310\n",
      "Epoch 36/250\n",
      "1281/1281 [==============================] - 0s 31us/step - loss: 22048.4326\n",
      "Epoch 37/250\n",
      "1281/1281 [==============================] - 0s 54us/step - loss: 22025.1224\n",
      "Epoch 38/250\n",
      "1281/1281 [==============================] - 0s 48us/step - loss: 22386.8478\n",
      "Epoch 39/250\n",
      "1281/1281 [==============================] - 0s 61us/step - loss: 21790.1402\n",
      "Epoch 40/250\n",
      "1281/1281 [==============================] - 0s 44us/step - loss: 21832.1997\n",
      "Epoch 41/250\n",
      "1281/1281 [==============================] - 0s 45us/step - loss: 21834.9339\n",
      "Epoch 42/250\n",
      "1281/1281 [==============================] - 0s 49us/step - loss: 20754.6568\n",
      "Epoch 43/250\n",
      "1281/1281 [==============================] - 0s 52us/step - loss: 21298.8029\n",
      "Epoch 44/250\n",
      "1281/1281 [==============================] - 0s 71us/step - loss: 21663.5405\n",
      "Epoch 45/250\n",
      "1281/1281 [==============================] - 0s 235us/step - loss: 21241.1068\n",
      "Epoch 46/250\n",
      "1281/1281 [==============================] - 0s 137us/step - loss: 21695.8566\n",
      "Epoch 47/250\n",
      "1281/1281 [==============================] - 0s 98us/step - loss: 21546.4705\n",
      "Epoch 48/250\n",
      "1281/1281 [==============================] - 0s 95us/step - loss: 21666.7475\n",
      "Epoch 49/250\n",
      "1281/1281 [==============================] - 0s 54us/step - loss: 20898.6500\n",
      "Epoch 50/250\n",
      "1281/1281 [==============================] - 0s 36us/step - loss: 20619.9238\n",
      "Epoch 51/250\n",
      "1281/1281 [==============================] - 0s 32us/step - loss: 21592.6277\n",
      "Epoch 52/250\n",
      "1281/1281 [==============================] - 0s 34us/step - loss: 20882.3289\n",
      "Epoch 53/250\n",
      "1281/1281 [==============================] - 0s 32us/step - loss: 21490.0125\n",
      "Epoch 54/250\n",
      "1281/1281 [==============================] - 0s 31us/step - loss: 21387.2082\n",
      "Epoch 55/250\n",
      "1281/1281 [==============================] - 0s 32us/step - loss: 20353.5556\n",
      "Epoch 56/250\n",
      "1281/1281 [==============================] - 0s 32us/step - loss: 20833.9639\n",
      "Epoch 57/250\n",
      "1281/1281 [==============================] - 0s 32us/step - loss: 21118.8810\n",
      "Epoch 58/250\n",
      "1281/1281 [==============================] - 0s 32us/step - loss: 20911.2100\n",
      "Epoch 59/250\n",
      "1281/1281 [==============================] - 0s 35us/step - loss: 21038.4819\n",
      "Epoch 60/250\n",
      "1281/1281 [==============================] - 0s 50us/step - loss: 21042.3897\n",
      "Epoch 61/250\n",
      "1281/1281 [==============================] - 0s 65us/step - loss: 20055.0438\n",
      "Epoch 62/250\n",
      "1281/1281 [==============================] - 0s 44us/step - loss: 21449.9943\n",
      "Epoch 63/250\n",
      "1281/1281 [==============================] - 0s 42us/step - loss: 20802.5676\n",
      "Epoch 64/250\n",
      "1281/1281 [==============================] - 0s 56us/step - loss: 21281.1481\n",
      "Epoch 65/250\n",
      "1281/1281 [==============================] - 0s 123us/step - loss: 20385.9914\n",
      "Epoch 66/250\n",
      "1281/1281 [==============================] - 0s 62us/step - loss: 21370.8437\n",
      "Epoch 67/250\n",
      "1281/1281 [==============================] - 0s 43us/step - loss: 20467.0365\n",
      "Epoch 68/250\n",
      "1281/1281 [==============================] - 0s 45us/step - loss: 21248.7519\n",
      "Epoch 69/250\n",
      "1281/1281 [==============================] - 0s 45us/step - loss: 19998.7056\n",
      "Epoch 70/250\n",
      "1281/1281 [==============================] - 0s 49us/step - loss: 20474.1807\n",
      "Epoch 71/250\n",
      "1281/1281 [==============================] - 0s 51us/step - loss: 20629.3470\n",
      "Epoch 72/250\n",
      "1281/1281 [==============================] - 0s 42us/step - loss: 20673.0904\n",
      "Epoch 73/250\n",
      "1281/1281 [==============================] - 0s 56us/step - loss: 19898.3863\n",
      "Epoch 74/250\n",
      "1281/1281 [==============================] - 0s 48us/step - loss: 19703.7445\n",
      "Epoch 75/250\n",
      "1281/1281 [==============================] - 0s 38us/step - loss: 20466.9500\n",
      "Epoch 76/250\n",
      "1281/1281 [==============================] - 0s 35us/step - loss: 19550.7673\n",
      "Epoch 77/250\n",
      "1281/1281 [==============================] - 0s 32us/step - loss: 19974.9172\n",
      "Epoch 78/250\n",
      "1281/1281 [==============================] - 0s 36us/step - loss: 20384.3963\n",
      "Epoch 79/250\n",
      "1281/1281 [==============================] - 0s 35us/step - loss: 19697.9768\n",
      "Epoch 80/250\n",
      "1281/1281 [==============================] - 0s 36us/step - loss: 20146.1840\n",
      "Epoch 81/250\n",
      "1281/1281 [==============================] - 0s 37us/step - loss: 20062.2710\n",
      "Epoch 82/250\n",
      "1281/1281 [==============================] - 0s 42us/step - loss: 18836.0559\n",
      "Epoch 83/250\n",
      "1281/1281 [==============================] - 0s 32us/step - loss: 19773.0023\n",
      "Epoch 84/250\n",
      "1281/1281 [==============================] - 0s 31us/step - loss: 19908.2736\n",
      "Epoch 85/250\n",
      "1281/1281 [==============================] - 0s 31us/step - loss: 20356.4268\n",
      "Epoch 86/250\n",
      "1281/1281 [==============================] - 0s 32us/step - loss: 20373.1656\n",
      "Epoch 87/250\n",
      "1281/1281 [==============================] - 0s 31us/step - loss: 18727.4212\n",
      "Epoch 88/250\n",
      "1281/1281 [==============================] - 0s 32us/step - loss: 20078.0964\n",
      "Epoch 89/250\n",
      "1281/1281 [==============================] - 0s 31us/step - loss: 20889.2597\n",
      "Epoch 90/250\n",
      "1281/1281 [==============================] - 0s 30us/step - loss: 19526.8873\n",
      "Epoch 91/250\n",
      "1281/1281 [==============================] - 0s 31us/step - loss: 19774.4117\n",
      "Epoch 92/250\n"
     ]
    },
    {
     "name": "stdout",
     "output_type": "stream",
     "text": [
      "1281/1281 [==============================] - 0s 30us/step - loss: 19340.0539\n",
      "Epoch 93/250\n",
      "1281/1281 [==============================] - 0s 31us/step - loss: 19649.6727\n",
      "Epoch 94/250\n",
      "1281/1281 [==============================] - 0s 33us/step - loss: 19383.9873\n",
      "Epoch 95/250\n",
      "1281/1281 [==============================] - 0s 32us/step - loss: 20030.3908\n",
      "Epoch 96/250\n",
      "1281/1281 [==============================] - 0s 33us/step - loss: 19274.4172\n",
      "Epoch 97/250\n",
      "1281/1281 [==============================] - 0s 32us/step - loss: 19577.0429\n",
      "Epoch 98/250\n",
      "1281/1281 [==============================] - 0s 32us/step - loss: 18702.4709\n",
      "Epoch 99/250\n",
      "1281/1281 [==============================] - 0s 31us/step - loss: 20280.1399\n",
      "Epoch 100/250\n",
      "1281/1281 [==============================] - 0s 37us/step - loss: 19190.6920\n",
      "Epoch 101/250\n",
      "1281/1281 [==============================] - 0s 36us/step - loss: 20491.8865\n",
      "Epoch 102/250\n",
      "1281/1281 [==============================] - 0s 34us/step - loss: 19657.7556\n",
      "Epoch 103/250\n",
      "1281/1281 [==============================] - 0s 43us/step - loss: 19450.1089\n",
      "Epoch 104/250\n",
      "1281/1281 [==============================] - 0s 43us/step - loss: 20413.1800\n",
      "Epoch 105/250\n",
      "1281/1281 [==============================] - 0s 52us/step - loss: 19017.3717\n",
      "Epoch 106/250\n",
      "1281/1281 [==============================] - 0s 33us/step - loss: 18563.5169\n",
      "Epoch 107/250\n",
      "1281/1281 [==============================] - 0s 38us/step - loss: 19414.1400\n",
      "Epoch 108/250\n",
      "1281/1281 [==============================] - 0s 42us/step - loss: 19022.6035\n",
      "Epoch 109/250\n",
      "1281/1281 [==============================] - 0s 36us/step - loss: 19546.5079\n",
      "Epoch 110/250\n",
      "1281/1281 [==============================] - 0s 65us/step - loss: 18877.1876\n",
      "Epoch 111/250\n",
      "1281/1281 [==============================] - 0s 50us/step - loss: 18502.4110\n",
      "Epoch 112/250\n",
      "1281/1281 [==============================] - 0s 36us/step - loss: 19249.6747\n",
      "Epoch 113/250\n",
      "1281/1281 [==============================] - 0s 33us/step - loss: 18998.5372\n",
      "Epoch 114/250\n",
      "1281/1281 [==============================] - 0s 33us/step - loss: 18822.9415\n",
      "Epoch 115/250\n",
      "1281/1281 [==============================] - 0s 31us/step - loss: 19276.4481\n",
      "Epoch 116/250\n",
      "1281/1281 [==============================] - 0s 33us/step - loss: 18146.4259\n",
      "Epoch 117/250\n",
      "1281/1281 [==============================] - 0s 32us/step - loss: 18696.0462\n",
      "Epoch 118/250\n",
      "1281/1281 [==============================] - 0s 32us/step - loss: 18847.1354\n",
      "Epoch 119/250\n",
      "1281/1281 [==============================] - 0s 31us/step - loss: 19463.6557\n",
      "Epoch 120/250\n",
      "1281/1281 [==============================] - 0s 31us/step - loss: 18889.1516\n",
      "Epoch 121/250\n",
      "1281/1281 [==============================] - 0s 32us/step - loss: 18312.5559\n",
      "Epoch 122/250\n",
      "1281/1281 [==============================] - 0s 32us/step - loss: 19020.0057\n",
      "Epoch 123/250\n",
      "1281/1281 [==============================] - 0s 37us/step - loss: 19000.8528\n",
      "Epoch 124/250\n",
      "1281/1281 [==============================] - 0s 36us/step - loss: 18076.6607\n",
      "Epoch 125/250\n",
      "1281/1281 [==============================] - 0s 33us/step - loss: 18812.6776\n",
      "Epoch 126/250\n",
      "1281/1281 [==============================] - 0s 35us/step - loss: 18098.0878\n",
      "Epoch 127/250\n",
      "1281/1281 [==============================] - 0s 34us/step - loss: 19759.3698\n",
      "Epoch 128/250\n",
      "1281/1281 [==============================] - 0s 46us/step - loss: 19104.3204\n",
      "Epoch 129/250\n",
      "1281/1281 [==============================] - 0s 35us/step - loss: 18240.8168\n",
      "Epoch 130/250\n",
      "1281/1281 [==============================] - 0s 33us/step - loss: 18767.5294\n",
      "Epoch 131/250\n",
      "1281/1281 [==============================] - 0s 32us/step - loss: 18523.5863\n",
      "Epoch 132/250\n",
      "1281/1281 [==============================] - 0s 33us/step - loss: 18899.8921\n",
      "Epoch 133/250\n",
      "1281/1281 [==============================] - 0s 32us/step - loss: 19134.2953\n",
      "Epoch 134/250\n",
      "1281/1281 [==============================] - 0s 34us/step - loss: 18624.9332\n",
      "Epoch 135/250\n",
      "1281/1281 [==============================] - 0s 40us/step - loss: 19042.6382\n",
      "Epoch 136/250\n",
      "1281/1281 [==============================] - 0s 39us/step - loss: 18041.1972\n",
      "Epoch 137/250\n",
      "1281/1281 [==============================] - 0s 40us/step - loss: 19952.2376\n",
      "Epoch 138/250\n",
      "1281/1281 [==============================] - 0s 39us/step - loss: 19624.6776\n",
      "Epoch 139/250\n",
      "1281/1281 [==============================] - 0s 50us/step - loss: 18457.2640\n",
      "Epoch 140/250\n",
      "1281/1281 [==============================] - 0s 39us/step - loss: 18563.1754\n",
      "Epoch 141/250\n",
      "1281/1281 [==============================] - 0s 33us/step - loss: 18750.0757\n",
      "Epoch 142/250\n",
      "1281/1281 [==============================] - 0s 32us/step - loss: 18187.3070\n",
      "Epoch 143/250\n",
      "1281/1281 [==============================] - 0s 31us/step - loss: 18099.6969\n",
      "Epoch 144/250\n",
      "1281/1281 [==============================] - 0s 41us/step - loss: 18870.5931\n",
      "Epoch 145/250\n",
      "1281/1281 [==============================] - 0s 35us/step - loss: 18842.7192\n",
      "Epoch 146/250\n",
      "1281/1281 [==============================] - 0s 32us/step - loss: 18825.1505\n",
      "Epoch 147/250\n",
      "1281/1281 [==============================] - 0s 33us/step - loss: 19600.2868\n",
      "Epoch 148/250\n",
      "1281/1281 [==============================] - 0s 32us/step - loss: 18993.1244\n",
      "Epoch 149/250\n",
      "1281/1281 [==============================] - 0s 33us/step - loss: 18324.8882\n",
      "Epoch 150/250\n",
      "1281/1281 [==============================] - 0s 32us/step - loss: 18577.1090\n",
      "Epoch 151/250\n",
      "1281/1281 [==============================] - 0s 31us/step - loss: 19097.6992\n",
      "Epoch 152/250\n",
      "1281/1281 [==============================] - 0s 33us/step - loss: 18524.0538\n",
      "Epoch 153/250\n",
      "1281/1281 [==============================] - 0s 32us/step - loss: 18019.6915\n",
      "Epoch 154/250\n",
      "1281/1281 [==============================] - 0s 36us/step - loss: 18037.3410\n",
      "Epoch 155/250\n",
      "1281/1281 [==============================] - 0s 33us/step - loss: 18452.5443\n",
      "Epoch 156/250\n",
      "1281/1281 [==============================] - 0s 35us/step - loss: 18210.0296\n",
      "Epoch 157/250\n",
      "1281/1281 [==============================] - 0s 36us/step - loss: 18939.0521\n",
      "Epoch 158/250\n",
      "1281/1281 [==============================] - 0s 46us/step - loss: 17859.0118\n",
      "Epoch 159/250\n",
      "1281/1281 [==============================] - 0s 35us/step - loss: 18374.7691\n",
      "Epoch 160/250\n",
      "1281/1281 [==============================] - 0s 39us/step - loss: 17991.5054\n",
      "Epoch 161/250\n",
      "1281/1281 [==============================] - 0s 47us/step - loss: 18155.9993\n",
      "Epoch 162/250\n",
      "1281/1281 [==============================] - 0s 33us/step - loss: 18408.9361\n",
      "Epoch 163/250\n",
      "1281/1281 [==============================] - 0s 32us/step - loss: 18804.9170\n",
      "Epoch 164/250\n",
      "1281/1281 [==============================] - 0s 34us/step - loss: 18176.3941\n",
      "Epoch 165/250\n",
      "1281/1281 [==============================] - 0s 38us/step - loss: 18790.0857\n",
      "Epoch 166/250\n",
      "1281/1281 [==============================] - 0s 33us/step - loss: 18991.4902\n",
      "Epoch 167/250\n",
      "1281/1281 [==============================] - 0s 34us/step - loss: 17479.1991\n",
      "Epoch 168/250\n",
      "1281/1281 [==============================] - 0s 71us/step - loss: 17838.5717\n",
      "Epoch 169/250\n",
      "1281/1281 [==============================] - 0s 79us/step - loss: 17880.0373\n",
      "Epoch 170/250\n",
      "1281/1281 [==============================] - 0s 100us/step - loss: 17861.2958\n",
      "Epoch 171/250\n",
      "1281/1281 [==============================] - 0s 84us/step - loss: 18817.9675\n",
      "Epoch 172/250\n",
      "1281/1281 [==============================] - 0s 56us/step - loss: 19185.2802\n",
      "Epoch 173/250\n",
      "1281/1281 [==============================] - 0s 61us/step - loss: 18691.5418\n",
      "Epoch 174/250\n",
      "1281/1281 [==============================] - 0s 48us/step - loss: 18183.7325\n",
      "Epoch 175/250\n",
      "1281/1281 [==============================] - 0s 47us/step - loss: 19103.0636\n",
      "Epoch 176/250\n",
      "1281/1281 [==============================] - 0s 35us/step - loss: 18616.6461\n",
      "Epoch 177/250\n",
      "1281/1281 [==============================] - 0s 40us/step - loss: 18134.2960\n",
      "Epoch 178/250\n",
      "1281/1281 [==============================] - 0s 34us/step - loss: 18828.8388\n",
      "Epoch 179/250\n",
      "1281/1281 [==============================] - 0s 50us/step - loss: 18004.8018\n",
      "Epoch 180/250\n",
      "1281/1281 [==============================] - 0s 39us/step - loss: 18450.7118\n",
      "Epoch 181/250\n",
      "1281/1281 [==============================] - 0s 36us/step - loss: 18059.9207\n",
      "Epoch 182/250\n"
     ]
    },
    {
     "name": "stdout",
     "output_type": "stream",
     "text": [
      "1281/1281 [==============================] - 0s 48us/step - loss: 17552.5402\n",
      "Epoch 183/250\n",
      "1281/1281 [==============================] - 0s 106us/step - loss: 18028.9280\n",
      "Epoch 184/250\n",
      "1281/1281 [==============================] - 0s 85us/step - loss: 17669.2352\n",
      "Epoch 185/250\n",
      "1281/1281 [==============================] - 0s 67us/step - loss: 19493.2120\n",
      "Epoch 186/250\n",
      "1281/1281 [==============================] - 0s 58us/step - loss: 18351.4604\n",
      "Epoch 187/250\n",
      "1281/1281 [==============================] - 0s 40us/step - loss: 18646.0878\n",
      "Epoch 188/250\n",
      "1281/1281 [==============================] - 0s 41us/step - loss: 18740.6167\n",
      "Epoch 189/250\n",
      "1281/1281 [==============================] - 0s 55us/step - loss: 17984.1045\n",
      "Epoch 190/250\n",
      "1281/1281 [==============================] - 0s 47us/step - loss: 18363.4666\n",
      "Epoch 191/250\n",
      "1281/1281 [==============================] - 0s 36us/step - loss: 17819.8527\n",
      "Epoch 192/250\n",
      "1281/1281 [==============================] - 0s 33us/step - loss: 18042.7760\n",
      "Epoch 193/250\n",
      "1281/1281 [==============================] - 0s 41us/step - loss: 17711.1309\n",
      "Epoch 194/250\n",
      "1281/1281 [==============================] - 0s 32us/step - loss: 17011.0984\n",
      "Epoch 195/250\n",
      "1281/1281 [==============================] - 0s 32us/step - loss: 19032.3495\n",
      "Epoch 196/250\n",
      "1281/1281 [==============================] - 0s 33us/step - loss: 18356.0348\n",
      "Epoch 197/250\n",
      "1281/1281 [==============================] - 0s 34us/step - loss: 18600.2578\n",
      "Epoch 198/250\n",
      "1281/1281 [==============================] - 0s 33us/step - loss: 18624.8033\n",
      "Epoch 199/250\n",
      "1281/1281 [==============================] - 0s 33us/step - loss: 18316.4838\n",
      "Epoch 200/250\n",
      "1281/1281 [==============================] - 0s 50us/step - loss: 18343.3675\n",
      "Epoch 201/250\n",
      "1281/1281 [==============================] - 0s 95us/step - loss: 17835.9195\n",
      "Epoch 202/250\n",
      "1281/1281 [==============================] - 0s 86us/step - loss: 18068.1425\n",
      "Epoch 203/250\n",
      "1281/1281 [==============================] - 0s 75us/step - loss: 17930.9791\n",
      "Epoch 204/250\n",
      "1281/1281 [==============================] - 0s 59us/step - loss: 18510.9060\n",
      "Epoch 205/250\n",
      "1281/1281 [==============================] - 0s 51us/step - loss: 17410.1309\n",
      "Epoch 206/250\n",
      "1281/1281 [==============================] - 0s 57us/step - loss: 17967.5244\n",
      "Epoch 207/250\n",
      "1281/1281 [==============================] - 0s 54us/step - loss: 18655.8308\n",
      "Epoch 208/250\n",
      "1281/1281 [==============================] - 0s 46us/step - loss: 17822.4695\n",
      "Epoch 209/250\n",
      "1281/1281 [==============================] - 0s 43us/step - loss: 18493.2891\n",
      "Epoch 210/250\n",
      "1281/1281 [==============================] - 0s 41us/step - loss: 17449.8087\n",
      "Epoch 211/250\n",
      "1281/1281 [==============================] - 0s 42us/step - loss: 17952.5100\n",
      "Epoch 212/250\n",
      "1281/1281 [==============================] - 0s 65us/step - loss: 18417.9711\n",
      "Epoch 213/250\n",
      "1281/1281 [==============================] - 0s 57us/step - loss: 18299.5739\n",
      "Epoch 214/250\n",
      "1281/1281 [==============================] - 0s 56us/step - loss: 17819.0552\n",
      "Epoch 215/250\n",
      "1281/1281 [==============================] - 0s 64us/step - loss: 18096.6107\n",
      "Epoch 216/250\n",
      "1281/1281 [==============================] - 0s 58us/step - loss: 19278.9616\n",
      "Epoch 217/250\n",
      "1281/1281 [==============================] - 0s 48us/step - loss: 17823.5013\n",
      "Epoch 218/250\n",
      "1281/1281 [==============================] - 0s 45us/step - loss: 18066.6323\n",
      "Epoch 219/250\n",
      "1281/1281 [==============================] - 0s 42us/step - loss: 17997.6790\n",
      "Epoch 220/250\n",
      "1281/1281 [==============================] - 0s 45us/step - loss: 18673.1892\n",
      "Epoch 221/250\n",
      "1281/1281 [==============================] - 0s 77us/step - loss: 17528.4077\n",
      "Epoch 222/250\n",
      "1281/1281 [==============================] - 0s 81us/step - loss: 18275.5815\n",
      "Epoch 223/250\n",
      "1281/1281 [==============================] - 0s 71us/step - loss: 17856.2643\n",
      "Epoch 224/250\n",
      "1281/1281 [==============================] - 0s 78us/step - loss: 17041.8070\n",
      "Epoch 225/250\n",
      "1281/1281 [==============================] - 0s 64us/step - loss: 18159.5176\n",
      "Epoch 226/250\n",
      "1281/1281 [==============================] - 0s 65us/step - loss: 18234.6026\n",
      "Epoch 227/250\n",
      "1281/1281 [==============================] - 0s 63us/step - loss: 17578.2382\n",
      "Epoch 228/250\n",
      "1281/1281 [==============================] - 0s 56us/step - loss: 18793.6223\n",
      "Epoch 229/250\n",
      "1281/1281 [==============================] - 0s 60us/step - loss: 17065.8475\n",
      "Epoch 230/250\n",
      "1281/1281 [==============================] - 0s 60us/step - loss: 19563.7411\n",
      "Epoch 231/250\n",
      "1281/1281 [==============================] - 0s 57us/step - loss: 17732.8537\n",
      "Epoch 232/250\n",
      "1281/1281 [==============================] - 0s 56us/step - loss: 18250.0672\n",
      "Epoch 233/250\n",
      "1281/1281 [==============================] - ETA: 0s - loss: 22539.400 - 0s 37us/step - loss: 18136.5724\n",
      "Epoch 234/250\n",
      "1281/1281 [==============================] - 0s 63us/step - loss: 17238.1999\n",
      "Epoch 235/250\n",
      "1281/1281 [==============================] - 0s 77us/step - loss: 18278.9016\n",
      "Epoch 236/250\n",
      "1281/1281 [==============================] - 0s 47us/step - loss: 18031.8492\n",
      "Epoch 237/250\n",
      "1281/1281 [==============================] - 0s 51us/step - loss: 17658.9328\n",
      "Epoch 238/250\n",
      "1281/1281 [==============================] - 0s 50us/step - loss: 18332.0450\n",
      "Epoch 239/250\n",
      "1281/1281 [==============================] - 0s 54us/step - loss: 17613.9236\n",
      "Epoch 240/250\n",
      "1281/1281 [==============================] - 0s 66us/step - loss: 17985.3380\n",
      "Epoch 241/250\n",
      "1281/1281 [==============================] - 0s 56us/step - loss: 18420.4406\n",
      "Epoch 242/250\n",
      "1281/1281 [==============================] - 0s 61us/step - loss: 17825.1306\n",
      "Epoch 243/250\n",
      "1281/1281 [==============================] - 0s 60us/step - loss: 17361.2341\n",
      "Epoch 244/250\n",
      "1281/1281 [==============================] - 0s 57us/step - loss: 16871.0259\n",
      "Epoch 245/250\n",
      "1281/1281 [==============================] - 0s 51us/step - loss: 17188.1061\n",
      "Epoch 246/250\n",
      "1281/1281 [==============================] - 0s 52us/step - loss: 17974.1420\n",
      "Epoch 247/250\n",
      "1281/1281 [==============================] - 0s 47us/step - loss: 17878.6743\n",
      "Epoch 248/250\n",
      "1281/1281 [==============================] - 0s 63us/step - loss: 17935.9421\n",
      "Epoch 249/250\n",
      "1281/1281 [==============================] - 0s 40us/step - loss: 17575.9105\n",
      "Epoch 250/250\n",
      "1281/1281 [==============================] - 0s 44us/step - loss: 18257.7520\n"
     ]
    },
    {
     "data": {
      "text/plain": [
       "<keras.callbacks.History at 0x1163fd6d8>"
      ]
     },
     "execution_count": 346,
     "metadata": {},
     "output_type": "execute_result"
    }
   ],
   "source": [
    "model.fit(X_train, y_train, epochs=250, batch_size=64)"
   ]
  },
  {
   "cell_type": "code",
   "execution_count": 348,
   "metadata": {},
   "outputs": [
    {
     "name": "stdout",
     "output_type": "stream",
     "text": [
      "1281/1281 [==============================] - 0s 51us/step\n"
     ]
    },
    {
     "data": {
      "text/plain": [
       "13022.089966773243"
      ]
     },
     "execution_count": 348,
     "metadata": {},
     "output_type": "execute_result"
    }
   ],
   "source": [
    "model.evaluate(X_train, y_train)"
   ]
  },
  {
   "cell_type": "code",
   "execution_count": 349,
   "metadata": {},
   "outputs": [
    {
     "name": "stdout",
     "output_type": "stream",
     "text": [
      "321/321 [==============================] - 0s 46us/step\n"
     ]
    },
    {
     "data": {
      "text/plain": [
       "13692.947099822333"
      ]
     },
     "execution_count": 349,
     "metadata": {},
     "output_type": "execute_result"
    }
   ],
   "source": [
    "model.evaluate(X_test, y_test)"
   ]
  },
  {
   "cell_type": "code",
   "execution_count": 350,
   "metadata": {
    "scrolled": true
   },
   "outputs": [
    {
     "data": {
      "text/plain": [
       "(-64.0, 1344.0, -391.2797401428223, 173.53744583129884)"
      ]
     },
     "execution_count": 350,
     "metadata": {},
     "output_type": "execute_result"
    },
    {
     "data": {
      "image/png": "[encoded data removed]",
      "text/plain": [
       "<matplotlib.figure.Figure at 0x19f1123c8>"
      ]
     },
     "metadata": {},
     "output_type": "display_data"
    }
   ],
   "source": [
    "plt.plot(model.predict(X_train).reshape(-1)- y_train.values, color='blue', label='train')\n",
    "plt.plot(model.predict(X_test).reshape(-1)-y_test.values, color='red', label='test')\n",
    "plt.legend()\n",
    "plt.axis('equal')"
   ]
  },
  {
   "cell_type": "markdown",
   "metadata": {
    "collapsed": true
   },
   "source": [
    "Still high residuals. Model did not generalize to the test set."
   ]
  },
  {
   "cell_type": "markdown",
   "metadata": {},
   "source": [
    "# 2.1 Classification with Log Res and MLP"
   ]
  },
  {
   "cell_type": "code",
   "execution_count": 352,
   "metadata": {},
   "outputs": [
    {
     "data": {
      "text/plain": [
       "<matplotlib.axes._subplots.AxesSubplot at 0x1163fd710>"
      ]
     },
     "execution_count": 352,
     "metadata": {},
     "output_type": "execute_result"
    },
    {
     "data": {
      "image/png": "[encoded data removed]",
      "text/plain": [
       "<matplotlib.figure.Figure at 0x17bbb2dd8>"
      ]
     },
     "metadata": {},
     "output_type": "display_data"
    }
   ],
   "source": [
    "y.hist(bins=100)"
   ]
  },
  {
   "cell_type": "code",
   "execution_count": 353,
   "metadata": {
    "collapsed": true
   },
   "outputs": [],
   "source": [
    "cy = (y>=208).astype(int)"
   ]
  },
  {
   "cell_type": "code",
   "execution_count": 354,
   "metadata": {
    "collapsed": true
   },
   "outputs": [],
   "source": [
    "X_train, X_test, y_train, y_test = train_test_split(X, cy, test_size=0.20, random_state=42)"
   ]
  },
  {
   "cell_type": "markdown",
   "metadata": {},
   "source": [
    "## 2.1.1 Logistic Regression"
   ]
  },
  {
   "cell_type": "code",
   "execution_count": 355,
   "metadata": {
    "collapsed": true
   },
   "outputs": [],
   "source": [
    "log = LogisticRegressionCV(class_weight='balanced')"
   ]
  },
  {
   "cell_type": "code",
   "execution_count": 356,
   "metadata": {},
   "outputs": [
    {
     "data": {
      "text/plain": [
       "LogisticRegressionCV(Cs=10, class_weight='balanced', cv=None, dual=False,\n",
       "           fit_intercept=True, intercept_scaling=1.0, max_iter=100,\n",
       "           multi_class='ovr', n_jobs=1, penalty='l2', random_state=None,\n",
       "           refit=True, scoring=None, solver='lbfgs', tol=0.0001, verbose=0)"
      ]
     },
     "execution_count": 356,
     "metadata": {},
     "output_type": "execute_result"
    }
   ],
   "source": [
    "log.fit(X_train, y_train)"
   ]
  },
  {
   "cell_type": "code",
   "execution_count": 357,
   "metadata": {},
   "outputs": [
    {
     "data": {
      "text/plain": [
       "0.6370023419203747"
      ]
     },
     "execution_count": 357,
     "metadata": {},
     "output_type": "execute_result"
    }
   ],
   "source": [
    "log.score(X_train, y_train)"
   ]
  },
  {
   "cell_type": "code",
   "execution_count": 358,
   "metadata": {},
   "outputs": [
    {
     "data": {
      "text/plain": [
       "0.5825545171339563"
      ]
     },
     "execution_count": 358,
     "metadata": {},
     "output_type": "execute_result"
    }
   ],
   "source": [
    "log.score(X_test, y_test)"
   ]
  },
  {
   "cell_type": "code",
   "execution_count": 359,
   "metadata": {},
   "outputs": [
    {
     "data": {
      "text/plain": [
       "0    744\n",
       "1    537\n",
       "Name: success, dtype: int64"
      ]
     },
     "execution_count": 359,
     "metadata": {},
     "output_type": "execute_result"
    }
   ],
   "source": [
    "y_train.value_counts()"
   ]
  },
  {
   "cell_type": "code",
   "execution_count": 361,
   "metadata": {},
   "outputs": [
    {
     "data": {
      "text/plain": [
       "0.5807962529274004"
      ]
     },
     "execution_count": 361,
     "metadata": {},
     "output_type": "execute_result"
    }
   ],
   "source": [
    "744/(537+744)"
   ]
  },
  {
   "cell_type": "markdown",
   "metadata": {},
   "source": [
    "Model just about does the same as random guessing."
   ]
  },
  {
   "cell_type": "markdown",
   "metadata": {},
   "source": [
    "## 2.1.2 Neural Network"
   ]
  },
  {
   "cell_type": "code",
   "execution_count": 399,
   "metadata": {
    "collapsed": true
   },
   "outputs": [],
   "source": [
    "model = Sequential()\n",
    "model.add(Dense(8, input_shape = (X_train.shape[1],)))\n",
    "model.add(Dropout(0.5))\n",
    "model.add(Dense(3))\n",
    "model.add(Dropout(0.5))\n",
    "model.add(Dense(1))\n",
    "model.compile(loss='binary_crossentropy', optimizer='adam', metrics=['accuracy'])\n",
    "es = EarlyStopping(monitor='val_loss', patience=10)"
   ]
  },
  {
   "cell_type": "code",
   "execution_count": 400,
   "metadata": {
    "scrolled": true
   },
   "outputs": [
    {
     "name": "stdout",
     "output_type": "stream",
     "text": [
      "Train on 1281 samples, validate on 321 samples\n",
      "Epoch 1/250\n",
      "1281/1281 [==============================] - 2s 2ms/step - loss: 4.3893 - acc: 0.3903 - val_loss: 4.8476 - val_acc: 0.5670\n",
      "Epoch 2/250\n",
      "1281/1281 [==============================] - 0s 47us/step - loss: 4.0462 - acc: 0.4590 - val_loss: 1.2368 - val_acc: 0.5670\n",
      "Epoch 3/250\n",
      "1281/1281 [==============================] - 0s 60us/step - loss: 3.8911 - acc: 0.4582 - val_loss: 0.8018 - val_acc: 0.5452\n",
      "Epoch 4/250\n",
      "1281/1281 [==============================] - 0s 57us/step - loss: 3.9419 - acc: 0.4645 - val_loss: 0.8174 - val_acc: 0.5607\n",
      "Epoch 5/250\n",
      "1281/1281 [==============================] - 0s 62us/step - loss: 3.5177 - acc: 0.4738 - val_loss: 1.0529 - val_acc: 0.5670\n",
      "Epoch 6/250\n",
      "1281/1281 [==============================] - 0s 59us/step - loss: 3.2788 - acc: 0.4988 - val_loss: 1.0089 - val_acc: 0.5670\n",
      "Epoch 7/250\n",
      "1281/1281 [==============================] - 0s 60us/step - loss: 3.1593 - acc: 0.5113 - val_loss: 0.8919 - val_acc: 0.5670\n",
      "Epoch 8/250\n",
      "1281/1281 [==============================] - 0s 44us/step - loss: 2.6998 - acc: 0.5379 - val_loss: 0.7750 - val_acc: 0.5483\n",
      "Epoch 9/250\n",
      "1281/1281 [==============================] - 0s 65us/step - loss: 2.9805 - acc: 0.5043 - val_loss: 0.8895 - val_acc: 0.5670\n",
      "Epoch 10/250\n",
      "1281/1281 [==============================] - 0s 63us/step - loss: 2.8256 - acc: 0.5176 - val_loss: 0.8548 - val_acc: 0.5670\n",
      "Epoch 11/250\n",
      "1281/1281 [==============================] - 0s 66us/step - loss: 2.8870 - acc: 0.5277 - val_loss: 0.8431 - val_acc: 0.5670\n",
      "Epoch 12/250\n",
      "1281/1281 [==============================] - 0s 62us/step - loss: 2.6030 - acc: 0.5262 - val_loss: 0.8269 - val_acc: 0.5670\n",
      "Epoch 13/250\n",
      "1281/1281 [==============================] - 0s 61us/step - loss: 2.1346 - acc: 0.5519 - val_loss: 0.8115 - val_acc: 0.5670\n",
      "Epoch 14/250\n",
      "1281/1281 [==============================] - 0s 56us/step - loss: 2.6014 - acc: 0.5160 - val_loss: 0.7749 - val_acc: 0.4579\n",
      "Epoch 15/250\n",
      "1281/1281 [==============================] - 0s 57us/step - loss: 2.8018 - acc: 0.4809 - val_loss: 0.7469 - val_acc: 0.4673\n",
      "Epoch 16/250\n",
      "1281/1281 [==============================] - 0s 56us/step - loss: 2.0808 - acc: 0.5496 - val_loss: 0.7186 - val_acc: 0.5514\n",
      "Epoch 17/250\n",
      "1281/1281 [==============================] - 0s 55us/step - loss: 1.8732 - acc: 0.5410 - val_loss: 0.7241 - val_acc: 0.5576\n",
      "Epoch 18/250\n",
      "1281/1281 [==============================] - 0s 61us/step - loss: 1.8380 - acc: 0.5480 - val_loss: 0.7317 - val_acc: 0.5670\n",
      "Epoch 19/250\n",
      "1281/1281 [==============================] - 0s 65us/step - loss: 1.6313 - acc: 0.5262 - val_loss: 0.7374 - val_acc: 0.5639\n",
      "Epoch 20/250\n",
      "1281/1281 [==============================] - 0s 59us/step - loss: 1.8596 - acc: 0.5410 - val_loss: 0.7087 - val_acc: 0.5514\n",
      "Epoch 21/250\n",
      "1281/1281 [==============================] - 0s 62us/step - loss: 2.5556 - acc: 0.4988 - val_loss: 0.7077 - val_acc: 0.5421\n",
      "Epoch 22/250\n",
      "1281/1281 [==============================] - 0s 61us/step - loss: 2.3535 - acc: 0.5035 - val_loss: 0.7043 - val_acc: 0.5545\n",
      "Epoch 23/250\n",
      "1281/1281 [==============================] - 0s 68us/step - loss: 2.1831 - acc: 0.5074 - val_loss: 0.7041 - val_acc: 0.5639\n",
      "Epoch 24/250\n",
      "1281/1281 [==============================] - 0s 64us/step - loss: 2.0714 - acc: 0.5308 - val_loss: 0.7038 - val_acc: 0.5639\n",
      "Epoch 25/250\n",
      "1281/1281 [==============================] - 0s 62us/step - loss: 1.8445 - acc: 0.5113 - val_loss: 0.6999 - val_acc: 0.5576\n",
      "Epoch 26/250\n",
      "1281/1281 [==============================] - 0s 63us/step - loss: 1.6059 - acc: 0.5035 - val_loss: 0.7022 - val_acc: 0.5701\n",
      "Epoch 27/250\n",
      "1281/1281 [==============================] - 0s 64us/step - loss: 1.6496 - acc: 0.5441 - val_loss: 0.8248 - val_acc: 0.5670\n",
      "Epoch 28/250\n",
      "1281/1281 [==============================] - 0s 61us/step - loss: 2.2491 - acc: 0.5511 - val_loss: 0.7716 - val_acc: 0.5670\n",
      "Epoch 29/250\n",
      "1281/1281 [==============================] - 0s 57us/step - loss: 1.7014 - acc: 0.5425 - val_loss: 0.7661 - val_acc: 0.5670\n",
      "Epoch 30/250\n",
      "1281/1281 [==============================] - 0s 69us/step - loss: 1.4634 - acc: 0.5628 - val_loss: 0.7436 - val_acc: 0.5670\n",
      "Epoch 31/250\n",
      "1281/1281 [==============================] - 0s 58us/step - loss: 1.2420 - acc: 0.5558 - val_loss: 0.7259 - val_acc: 0.5670\n",
      "Epoch 32/250\n",
      "1281/1281 [==============================] - 0s 58us/step - loss: 1.1070 - acc: 0.5667 - val_loss: 0.7150 - val_acc: 0.5670\n",
      "Epoch 33/250\n",
      "1281/1281 [==============================] - 0s 55us/step - loss: 1.1893 - acc: 0.5527 - val_loss: 0.7085 - val_acc: 0.5639\n",
      "Epoch 34/250\n",
      "1281/1281 [==============================] - 0s 60us/step - loss: 1.0423 - acc: 0.5574 - val_loss: 0.7012 - val_acc: 0.5639\n",
      "Epoch 35/250\n",
      "1281/1281 [==============================] - 0s 64us/step - loss: 1.0362 - acc: 0.5464 - val_loss: 0.6977 - val_acc: 0.5639\n",
      "Epoch 36/250\n",
      "1281/1281 [==============================] - 0s 55us/step - loss: 0.9730 - acc: 0.5316 - val_loss: 0.6994 - val_acc: 0.5639\n",
      "Epoch 37/250\n",
      "1281/1281 [==============================] - 0s 58us/step - loss: 0.9491 - acc: 0.5683 - val_loss: 0.6982 - val_acc: 0.5639\n",
      "Epoch 38/250\n",
      "1281/1281 [==============================] - 0s 85us/step - loss: 0.9609 - acc: 0.5332 - val_loss: 0.6957 - val_acc: 0.5639\n",
      "Epoch 39/250\n",
      "1281/1281 [==============================] - 0s 85us/step - loss: 1.0033 - acc: 0.5215 - val_loss: 0.6952 - val_acc: 0.5639\n",
      "Epoch 40/250\n",
      "1281/1281 [==============================] - 0s 55us/step - loss: 0.9017 - acc: 0.5574 - val_loss: 0.6946 - val_acc: 0.5639\n",
      "Epoch 41/250\n",
      "1281/1281 [==============================] - 0s 52us/step - loss: 0.9101 - acc: 0.5535 - val_loss: 0.6944 - val_acc: 0.5639\n",
      "Epoch 42/250\n",
      "1281/1281 [==============================] - 0s 62us/step - loss: 0.9106 - acc: 0.5496 - val_loss: 0.7093 - val_acc: 0.5670\n",
      "Epoch 43/250\n",
      "1281/1281 [==============================] - 0s 57us/step - loss: 1.0140 - acc: 0.5558 - val_loss: 0.7043 - val_acc: 0.5670\n",
      "Epoch 44/250\n",
      "1281/1281 [==============================] - 0s 57us/step - loss: 0.9596 - acc: 0.5628 - val_loss: 0.6967 - val_acc: 0.5639\n",
      "Epoch 45/250\n",
      "1281/1281 [==============================] - 0s 58us/step - loss: 0.9165 - acc: 0.5543 - val_loss: 0.6924 - val_acc: 0.5452\n",
      "Epoch 46/250\n",
      "1281/1281 [==============================] - 0s 76us/step - loss: 1.9557 - acc: 0.5035 - val_loss: 0.7203 - val_acc: 0.4642\n",
      "Epoch 47/250\n",
      "1281/1281 [==============================] - 0s 83us/step - loss: 2.2308 - acc: 0.5051 - val_loss: 0.7043 - val_acc: 0.4953\n",
      "Epoch 48/250\n",
      "1281/1281 [==============================] - 0s 76us/step - loss: 1.6562 - acc: 0.5176 - val_loss: 0.6894 - val_acc: 0.5639\n",
      "Epoch 49/250\n",
      "1281/1281 [==============================] - 0s 76us/step - loss: 1.3945 - acc: 0.5137 - val_loss: 0.6863 - val_acc: 0.5701\n",
      "Epoch 50/250\n",
      "1281/1281 [==============================] - 0s 72us/step - loss: 1.4815 - acc: 0.5207 - val_loss: 0.7892 - val_acc: 0.5670\n",
      "Epoch 51/250\n",
      "1281/1281 [==============================] - 0s 71us/step - loss: 1.5552 - acc: 0.5027 - val_loss: 0.7074 - val_acc: 0.4798\n",
      "Epoch 52/250\n",
      "1281/1281 [==============================] - 0s 66us/step - loss: 1.8272 - acc: 0.5285 - val_loss: 0.7089 - val_acc: 0.4860\n",
      "Epoch 53/250\n",
      "1281/1281 [==============================] - 0s 65us/step - loss: 1.9979 - acc: 0.5043 - val_loss: 0.6962 - val_acc: 0.5140\n",
      "Epoch 54/250\n",
      "1281/1281 [==============================] - 0s 68us/step - loss: 1.6336 - acc: 0.5246 - val_loss: 0.6879 - val_acc: 0.5545\n",
      "Epoch 55/250\n",
      "1281/1281 [==============================] - 0s 55us/step - loss: 1.5453 - acc: 0.5293 - val_loss: 0.6866 - val_acc: 0.5701\n",
      "Epoch 56/250\n",
      "1281/1281 [==============================] - 0s 58us/step - loss: 1.3491 - acc: 0.5519 - val_loss: 0.6857 - val_acc: 0.5607\n",
      "Epoch 57/250\n",
      "1281/1281 [==============================] - ETA: 0s - loss: 1.1393 - acc: 0.562 - 0s 81us/step - loss: 1.2197 - acc: 0.5496 - val_loss: 0.6857 - val_acc: 0.5639\n",
      "Epoch 58/250\n",
      "1281/1281 [==============================] - 0s 57us/step - loss: 1.1256 - acc: 0.5589 - val_loss: 0.6870 - val_acc: 0.5670\n",
      "Epoch 59/250\n",
      "1281/1281 [==============================] - 0s 67us/step - loss: 1.1605 - acc: 0.5293 - val_loss: 0.6873 - val_acc: 0.5639\n",
      "Epoch 60/250\n"
     ]
    },
    {
     "name": "stdout",
     "output_type": "stream",
     "text": [
      "1281/1281 [==============================] - 0s 77us/step - loss: 1.1429 - acc: 0.5215 - val_loss: 0.6870 - val_acc: 0.5607\n",
      "Epoch 61/250\n",
      "1281/1281 [==============================] - 0s 70us/step - loss: 1.1240 - acc: 0.5191 - val_loss: 0.6874 - val_acc: 0.5639\n",
      "Epoch 62/250\n",
      "1281/1281 [==============================] - 0s 69us/step - loss: 1.0181 - acc: 0.5363 - val_loss: 0.6862 - val_acc: 0.5576\n",
      "Epoch 63/250\n",
      "1281/1281 [==============================] - 0s 68us/step - loss: 1.0458 - acc: 0.5137 - val_loss: 0.6865 - val_acc: 0.5639\n",
      "Epoch 64/250\n",
      "1281/1281 [==============================] - 0s 76us/step - loss: 0.8542 - acc: 0.5402 - val_loss: 0.6905 - val_acc: 0.5670\n",
      "Epoch 65/250\n",
      "1281/1281 [==============================] - 0s 60us/step - loss: 0.8279 - acc: 0.5652 - val_loss: 0.6907 - val_acc: 0.5670\n",
      "Epoch 66/250\n",
      "1281/1281 [==============================] - 0s 62us/step - loss: 0.8082 - acc: 0.5582 - val_loss: 0.6919 - val_acc: 0.5670\n",
      "Epoch 67/250\n",
      "1281/1281 [==============================] - 0s 54us/step - loss: 0.7648 - acc: 0.5785 - val_loss: 0.6927 - val_acc: 0.5670\n"
     ]
    },
    {
     "data": {
      "text/plain": [
       "<keras.callbacks.History at 0x198109e48>"
      ]
     },
     "execution_count": 400,
     "metadata": {},
     "output_type": "execute_result"
    }
   ],
   "source": [
    "model.fit(X_train, y_train, epochs=250, batch_size=64, class_weight=y_train, validation_data=(X_test, y_test), callbacks=[es])"
   ]
  },
  {
   "cell_type": "code",
   "execution_count": 401,
   "metadata": {},
   "outputs": [
    {
     "name": "stdout",
     "output_type": "stream",
     "text": [
      "1281/1281 [==============================] - 0s 49us/step\n"
     ]
    },
    {
     "data": {
      "text/plain": [
       "[0.6893631466937009, 0.5807962529274004]"
      ]
     },
     "execution_count": 401,
     "metadata": {},
     "output_type": "execute_result"
    }
   ],
   "source": [
    "model.evaluate(X_train, y_train)"
   ]
  },
  {
   "cell_type": "code",
   "execution_count": 402,
   "metadata": {
    "scrolled": true
   },
   "outputs": [
    {
     "name": "stdout",
     "output_type": "stream",
     "text": [
      "321/321 [==============================] - 0s 56us/step\n"
     ]
    },
    {
     "data": {
      "text/plain": [
       "[0.6926563574331943, 0.5669781931464174]"
      ]
     },
     "execution_count": 402,
     "metadata": {},
     "output_type": "execute_result"
    }
   ],
   "source": [
    "model.evaluate(X_test, y_test)"
   ]
  },
  {
   "cell_type": "code",
   "execution_count": 403,
   "metadata": {},
   "outputs": [
    {
     "name": "stdout",
     "output_type": "stream",
     "text": [
      "[[182   0]\n",
      " [139   0]]\n",
      "             precision    recall  f1-score   support\n",
      "\n",
      "          0       0.57      1.00      0.72       182\n",
      "          1       0.00      0.00      0.00       139\n",
      "\n",
      "avg / total       0.32      0.57      0.41       321\n",
      "\n"
     ]
    },
    {
     "name": "stderr",
     "output_type": "stream",
     "text": [
      "/Users/piocalderon/anaconda/lib/python3.6/site-packages/sklearn/metrics/classification.py:1135: UndefinedMetricWarning: Precision and F-score are ill-defined and being set to 0.0 in labels with no predicted samples.\n",
      "  'precision', 'predicted', average, warn_for)\n"
     ]
    }
   ],
   "source": [
    "print(confusion_matrix(y_test, model.predict_classes(X_test).reshape(-1)))\n",
    "print(classification_report(y_test, model.predict_classes(X_test).reshape(-1)))"
   ]
  },
  {
   "cell_type": "markdown",
   "metadata": {},
   "source": [
    "# Classification with LSTM models\n",
    "\n",
    "## 1. embedding vector -> LSTM -> success\n"
   ]
  },
  {
   "cell_type": "code",
   "execution_count": 404,
   "metadata": {
    "collapsed": true
   },
   "outputs": [],
   "source": [
    "vw = pd.read_csv('../processed/processed_volkswagenpolska.csv')"
   ]
  },
  {
   "cell_type": "code",
   "execution_count": 405,
   "metadata": {
    "collapsed": true
   },
   "outputs": [],
   "source": [
    "vw = vw[['tokens', 'Trendy',\n",
    "       'Kind', 'Polite', 'Warm', 'Diligent', 'Blue_Collar', 'White_Collar',\n",
    "       'Protective', 'Serious', 'Funny', 'Pleasant', 'Beautiful', 'Alive',\n",
    "       'Above', 'Descriptive', 'Cheap', 'Expensive', 'Big', 'Small', 'Modern',\n",
    "       'Traditional', 'Appealing', 'Sustainable', 'Practical', 'Active',\n",
    "       'Easy', 'Trustworthy', 'Natural', 'Arts', 'Career', 'Family', 'Female',\n",
    "       'Male', 'Math', 'Science', 'Open', 'Cool', 'Likeable', 'Children',\n",
    "       'Community', 'Culture', 'Design', 'Innovative', 'Responsible',\n",
    "       'Extroverted', 'Fascination', 'Friendship', 'Functionality', 'Winner',\n",
    "       'Lifestyle', 'Music', 'New', 'Bargain', 'Power', 'Safety', 'Teaching',\n",
    "       'Technical', 'Valuable', 'Feel Good', 'Support', 'Inspire', 'Happiness',\n",
    "       'Celebrate', 'Meaningful', 'success']]"
   ]
  },
  {
   "cell_type": "code",
   "execution_count": 406,
   "metadata": {
    "collapsed": true
   },
   "outputs": [],
   "source": [
    "y = vw['success']"
   ]
  },
  {
   "cell_type": "code",
   "execution_count": 407,
   "metadata": {
    "collapsed": true,
    "scrolled": true
   },
   "outputs": [],
   "source": [
    "# retain = (y[pd.qcut(y, 10, labels=range(10)).isin([0])]).index"
   ]
  },
  {
   "cell_type": "code",
   "execution_count": 408,
   "metadata": {
    "collapsed": true
   },
   "outputs": [],
   "source": [
    "# vw = vw.loc[retain,:]"
   ]
  },
  {
   "cell_type": "code",
   "execution_count": 409,
   "metadata": {
    "collapsed": true
   },
   "outputs": [],
   "source": [
    "vw['tokens'] = vw['tokens'].map(ast.literal_eval)"
   ]
  },
  {
   "cell_type": "code",
   "execution_count": 410,
   "metadata": {
    "collapsed": true
   },
   "outputs": [],
   "source": [
    "vw = vw[~vw['Trendy'].isnull()]"
   ]
  },
  {
   "cell_type": "code",
   "execution_count": 411,
   "metadata": {
    "collapsed": true
   },
   "outputs": [],
   "source": [
    "vw['sequence'] = vw['tokens'].map(lambda words: [get_average_vector([x], emb) for x in words if x in emb.vocab.keys() and x not in ['bezpieczeństwo', 'pistolet']])"
   ]
  },
  {
   "cell_type": "code",
   "execution_count": null,
   "metadata": {
    "collapsed": true
   },
   "outputs": [],
   "source": []
  },
  {
   "cell_type": "code",
   "execution_count": 412,
   "metadata": {
    "collapsed": true
   },
   "outputs": [],
   "source": [
    "def clip(seq):\n",
    "    x = None\n",
    "    if len(seq) >= 50:\n",
    "        x = seq[:50]\n",
    "        return x\n",
    "    else:\n",
    "        x = seq.copy()\n",
    "        x.extend(np.zeros((50 - len(seq),300), dtype=np.float32))\n",
    "        return x"
   ]
  },
  {
   "cell_type": "code",
   "execution_count": 413,
   "metadata": {
    "collapsed": true
   },
   "outputs": [],
   "source": [
    "vw['clipped'] = vw['sequence'].map(clip)"
   ]
  },
  {
   "cell_type": "code",
   "execution_count": 414,
   "metadata": {},
   "outputs": [
    {
     "data": {
      "text/plain": [
       "276.9885229540918"
      ]
     },
     "execution_count": 414,
     "metadata": {},
     "output_type": "execute_result"
    }
   ],
   "source": [
    "vw['success'].mean()"
   ]
  },
  {
   "cell_type": "code",
   "execution_count": 415,
   "metadata": {
    "collapsed": true
   },
   "outputs": [],
   "source": [
    "vw['class'] = (vw['success']>=208).astype(int)"
   ]
  },
  {
   "cell_type": "code",
   "execution_count": 416,
   "metadata": {},
   "outputs": [
    {
     "data": {
      "text/plain": [
       "0    1127\n",
       "1     877\n",
       "Name: class, dtype: int64"
      ]
     },
     "execution_count": 416,
     "metadata": {},
     "output_type": "execute_result"
    }
   ],
   "source": [
    "vw['class'].value_counts()"
   ]
  },
  {
   "cell_type": "code",
   "execution_count": 417,
   "metadata": {
    "collapsed": true
   },
   "outputs": [],
   "source": [
    "X = vw[['clipped', 'Trendy',\n",
    "       'Kind', 'Polite', 'Warm', 'Diligent', 'Blue_Collar', 'White_Collar',\n",
    "       'Protective', 'Serious', 'Funny', 'Pleasant', 'Beautiful', 'Alive',\n",
    "       'Above', 'Descriptive', 'Cheap', 'Expensive', 'Big', 'Small', 'Modern',\n",
    "       'Traditional', 'Appealing', 'Sustainable', 'Practical', 'Active',\n",
    "       'Easy', 'Trustworthy', 'Natural', 'Arts', 'Career', 'Family', 'Female',\n",
    "       'Male', 'Math', 'Science', 'Open', 'Cool', 'Likeable', 'Children',\n",
    "       'Community', 'Culture', 'Design', 'Innovative', 'Responsible',\n",
    "       'Extroverted', 'Fascination', 'Friendship', 'Functionality', 'Winner',\n",
    "       'Lifestyle', 'Music', 'New', 'Bargain', 'Power', 'Safety', 'Teaching',\n",
    "       'Technical', 'Valuable', 'Feel Good', 'Support', 'Inspire', 'Happiness',\n",
    "       'Celebrate', 'Meaningful']]\n",
    "y = vw['class']"
   ]
  },
  {
   "cell_type": "code",
   "execution_count": 418,
   "metadata": {},
   "outputs": [],
   "source": [
    "X_train, X_valtest, y_train, y_valtest = train_test_split(X, y, test_size=0.40, random_state=42, stratify = y)\n",
    "X_val, X_test, y_val, y_test = train_test_split(X_valtest, y_valtest, test_size=0.50, random_state=42, stratify = y_valtest)"
   ]
  },
  {
   "cell_type": "code",
   "execution_count": 419,
   "metadata": {},
   "outputs": [],
   "source": [
    "wv_train = []\n",
    "for i in range(len(X_train)):\n",
    "    wv_train.append(np.array(X_train['clipped'].values[i]))\n",
    "wv_train = np.array(wv_train)\n",
    "\n",
    "wv_val = []\n",
    "for i in range(len(X_val)):\n",
    "    wv_val.append(np.array(X_val['clipped'].values[i]))\n",
    "wv_val = np.array(wv_val)\n",
    "\n",
    "wv_test = []\n",
    "for i in range(len(X_test)):\n",
    "    wv_test.append(np.array(X_test['clipped'].values[i]))\n",
    "wv_test = np.array(wv_test)"
   ]
  },
  {
   "cell_type": "code",
   "execution_count": 420,
   "metadata": {
    "collapsed": true
   },
   "outputs": [],
   "source": [
    "model1 = Sequential()\n",
    "model1.add(LSTM(16, input_shape=(wv_train.shape[1],wv_train.shape[2],)))\n",
    "model1.add(Dropout(0.5))\n",
    "model1.add(Dense(8, activation='relu'))\n",
    "model1.add(Dropout(0.5))\n",
    "model1.add(Dense(1, activation='sigmoid'))\n",
    "model1.compile(loss='binary_crossentropy', optimizer='adam', metrics=['accuracy'])\n",
    "es = EarlyStopping(monitor='val_loss', patience=10)"
   ]
  },
  {
   "cell_type": "code",
   "execution_count": 421,
   "metadata": {
    "scrolled": true
   },
   "outputs": [
    {
     "name": "stdout",
     "output_type": "stream",
     "text": [
      "Train on 1202 samples, validate on 401 samples\n",
      "Epoch 1/50\n",
      "1202/1202 [==============================] - 5s 4ms/step - loss: 0.6967 - acc: 0.5341 - val_loss: 0.6912 - val_acc: 0.5561\n",
      "Epoch 2/50\n",
      "1202/1202 [==============================] - 1s 1ms/step - loss: 0.6902 - acc: 0.5574 - val_loss: 0.6878 - val_acc: 0.5636\n",
      "Epoch 3/50\n",
      "1202/1202 [==============================] - 1s 1ms/step - loss: 0.6875 - acc: 0.5666 - val_loss: 0.6863 - val_acc: 0.5636\n",
      "Epoch 4/50\n",
      "1202/1202 [==============================] - 1s 1ms/step - loss: 0.6896 - acc: 0.5649 - val_loss: 0.6860 - val_acc: 0.5611\n",
      "Epoch 5/50\n",
      "1202/1202 [==============================] - 1s 1ms/step - loss: 0.6863 - acc: 0.5666 - val_loss: 0.6860 - val_acc: 0.5611\n",
      "Epoch 6/50\n",
      "1202/1202 [==============================] - 2s 1ms/step - loss: 0.6828 - acc: 0.5691 - val_loss: 0.6855 - val_acc: 0.5636\n",
      "Epoch 7/50\n",
      "1202/1202 [==============================] - 2s 1ms/step - loss: 0.6780 - acc: 0.5641 - val_loss: 0.6847 - val_acc: 0.5636\n",
      "Epoch 8/50\n",
      "1202/1202 [==============================] - 2s 1ms/step - loss: 0.6808 - acc: 0.5657 - val_loss: 0.6838 - val_acc: 0.5611\n",
      "Epoch 9/50\n",
      "1202/1202 [==============================] - 2s 1ms/step - loss: 0.6788 - acc: 0.5691 - val_loss: 0.6833 - val_acc: 0.5611\n",
      "Epoch 10/50\n",
      "1202/1202 [==============================] - 2s 1ms/step - loss: 0.6798 - acc: 0.5657 - val_loss: 0.6817 - val_acc: 0.5611\n",
      "Epoch 11/50\n",
      "1202/1202 [==============================] - 2s 1ms/step - loss: 0.6735 - acc: 0.5707 - val_loss: 0.6758 - val_acc: 0.5611\n",
      "Epoch 12/50\n",
      "1202/1202 [==============================] - 2s 1ms/step - loss: 0.6643 - acc: 0.5691 - val_loss: 0.6711 - val_acc: 0.5611\n",
      "Epoch 13/50\n",
      "1202/1202 [==============================] - 2s 1ms/step - loss: 0.6586 - acc: 0.5666 - val_loss: 0.6715 - val_acc: 0.5611\n",
      "Epoch 14/50\n",
      "1202/1202 [==============================] - 2s 1ms/step - loss: 0.6481 - acc: 0.5740 - val_loss: 0.6726 - val_acc: 0.5636\n",
      "Epoch 15/50\n",
      "1202/1202 [==============================] - 2s 1ms/step - loss: 0.6231 - acc: 0.5907 - val_loss: 0.6772 - val_acc: 0.5985\n",
      "Epoch 16/50\n",
      "1202/1202 [==============================] - 2s 1ms/step - loss: 0.5990 - acc: 0.6448 - val_loss: 0.6753 - val_acc: 0.5960\n",
      "Epoch 17/50\n",
      "1202/1202 [==============================] - 2s 1ms/step - loss: 0.5703 - acc: 0.6589 - val_loss: 0.6938 - val_acc: 0.6085\n",
      "Epoch 18/50\n",
      "1202/1202 [==============================] - 2s 1ms/step - loss: 0.5390 - acc: 0.6955 - val_loss: 0.6922 - val_acc: 0.6060\n",
      "Epoch 19/50\n",
      "1202/1202 [==============================] - 2s 1ms/step - loss: 0.5411 - acc: 0.7205 - val_loss: 0.7087 - val_acc: 0.5810\n",
      "Epoch 20/50\n",
      "1202/1202 [==============================] - 1s 1ms/step - loss: 0.5412 - acc: 0.7055 - val_loss: 0.7340 - val_acc: 0.5910\n",
      "Epoch 21/50\n",
      "1202/1202 [==============================] - 2s 1ms/step - loss: 0.5008 - acc: 0.7221 - val_loss: 0.7763 - val_acc: 0.6185\n",
      "Epoch 22/50\n",
      "1202/1202 [==============================] - 2s 1ms/step - loss: 0.4740 - acc: 0.7629 - val_loss: 0.8096 - val_acc: 0.5935\n"
     ]
    },
    {
     "data": {
      "text/plain": [
       "<keras.callbacks.History at 0x1afcdab38>"
      ]
     },
     "execution_count": 421,
     "metadata": {},
     "output_type": "execute_result"
    }
   ],
   "source": [
    "model1.fit(wv_train, y_train, epochs=50, batch_size=64, class_weight=y_train, validation_data=(wv_val, y_val), callbacks=[es])"
   ]
  },
  {
   "cell_type": "code",
   "execution_count": 422,
   "metadata": {},
   "outputs": [
    {
     "name": "stdout",
     "output_type": "stream",
     "text": [
      "1202/1202 [==============================] - 1s 596us/step\n"
     ]
    },
    {
     "data": {
      "text/plain": [
       "[0.41702984831297457, 0.801996671915451]"
      ]
     },
     "execution_count": 422,
     "metadata": {},
     "output_type": "execute_result"
    }
   ],
   "source": [
    "model1.evaluate(wv_train, y_train)"
   ]
  },
  {
   "cell_type": "code",
   "execution_count": 423,
   "metadata": {},
   "outputs": [
    {
     "name": "stdout",
     "output_type": "stream",
     "text": [
      "[[452 224]\n",
      " [ 14 512]]\n",
      "             precision    recall  f1-score   support\n",
      "\n",
      "          0       0.97      0.67      0.79       676\n",
      "          1       0.70      0.97      0.81       526\n",
      "\n",
      "avg / total       0.85      0.80      0.80      1202\n",
      "\n"
     ]
    }
   ],
   "source": [
    "print(confusion_matrix(y_train, model1.predict_classes(wv_train).reshape(-1)))\n",
    "print(classification_report(y_train, model1.predict_classes(wv_train).reshape(-1)))"
   ]
  },
  {
   "cell_type": "code",
   "execution_count": 424,
   "metadata": {},
   "outputs": [
    {
     "name": "stdout",
     "output_type": "stream",
     "text": [
      "401/401 [==============================] - 0s 554us/step\n"
     ]
    },
    {
     "data": {
      "text/plain": [
       "[0.8095539288033273, 0.5935162095506292]"
      ]
     },
     "execution_count": 424,
     "metadata": {},
     "output_type": "execute_result"
    }
   ],
   "source": [
    "model1.evaluate(wv_val, y_val)"
   ]
  },
  {
   "cell_type": "code",
   "execution_count": 425,
   "metadata": {
    "scrolled": true
   },
   "outputs": [
    {
     "name": "stdout",
     "output_type": "stream",
     "text": [
      "[[108 117]\n",
      " [ 46 130]]\n",
      "             precision    recall  f1-score   support\n",
      "\n",
      "          0       0.70      0.48      0.57       225\n",
      "          1       0.53      0.74      0.61       176\n",
      "\n",
      "avg / total       0.62      0.59      0.59       401\n",
      "\n"
     ]
    }
   ],
   "source": [
    "print(confusion_matrix(y_val, model1.predict_classes(wv_val).reshape(-1)))\n",
    "print(classification_report(y_val, model1.predict_classes(wv_val).reshape(-1)))"
   ]
  },
  {
   "cell_type": "code",
   "execution_count": 426,
   "metadata": {},
   "outputs": [
    {
     "name": "stdout",
     "output_type": "stream",
     "text": [
      "401/401 [==============================] - 0s 452us/step\n"
     ]
    },
    {
     "data": {
      "text/plain": [
       "[0.8316488358148019, 0.571072319945195]"
      ]
     },
     "execution_count": 426,
     "metadata": {},
     "output_type": "execute_result"
    }
   ],
   "source": [
    "model1.evaluate(wv_test, y_test)"
   ]
  },
  {
   "cell_type": "code",
   "execution_count": 442,
   "metadata": {
    "collapsed": true
   },
   "outputs": [],
   "source": [
    "model1.save('lstm1')"
   ]
  },
  {
   "cell_type": "markdown",
   "metadata": {},
   "source": [
    "## 2. (embedding vector -> LSTM) + (dimension similarity) -> success"
   ]
  },
  {
   "cell_type": "code",
   "execution_count": 427,
   "metadata": {
    "collapsed": true
   },
   "outputs": [],
   "source": [
    "sim_train = X_train.iloc[:,1:]\n",
    "sim_val = X_val.iloc[:,1:]\n",
    "sim_test = X_test.iloc[:,1:]"
   ]
  },
  {
   "cell_type": "code",
   "execution_count": 428,
   "metadata": {
    "collapsed": true
   },
   "outputs": [],
   "source": [
    "from keras.layers import Input, LSTM, Dense\n",
    "from keras.models import Model"
   ]
  },
  {
   "cell_type": "code",
   "execution_count": 429,
   "metadata": {
    "collapsed": true
   },
   "outputs": [],
   "source": [
    "main_input = Input(shape=(wv_train.shape[1], wv_train.shape[2],), dtype='float32', name='main_input')"
   ]
  },
  {
   "cell_type": "code",
   "execution_count": 430,
   "metadata": {
    "collapsed": true
   },
   "outputs": [],
   "source": [
    "lstm = LSTM(16)(main_input)"
   ]
  },
  {
   "cell_type": "code",
   "execution_count": 431,
   "metadata": {
    "collapsed": true
   },
   "outputs": [],
   "source": [
    "auxiliary_input = Input(shape=(sim_train.shape[1], ), name='aux_input')"
   ]
  },
  {
   "cell_type": "code",
   "execution_count": 432,
   "metadata": {
    "collapsed": true
   },
   "outputs": [],
   "source": [
    "x = concatenate([lstm, auxiliary_input])"
   ]
  },
  {
   "cell_type": "code",
   "execution_count": 433,
   "metadata": {},
   "outputs": [],
   "source": [
    "drop1 = Dropout(0.5)(x)\n",
    "dense1 = Dense(8, activation='relu')(drop1)\n",
    "drop2 = Dropout(0.5)(dense1)\n",
    "main_output = Dense(1, activation='sigmoid', name='main_output')(drop2)\n",
    "es = EarlyStopping(monitor='val_loss', patience=10)"
   ]
  },
  {
   "cell_type": "code",
   "execution_count": 434,
   "metadata": {},
   "outputs": [],
   "source": [
    "model2 = Model(inputs=[main_input, auxiliary_input], outputs=[main_output])"
   ]
  },
  {
   "cell_type": "code",
   "execution_count": 435,
   "metadata": {
    "collapsed": true
   },
   "outputs": [],
   "source": [
    "model2.compile(optimizer='rmsprop', loss='binary_crossentropy', metrics=['accuracy'])"
   ]
  },
  {
   "cell_type": "code",
   "execution_count": 436,
   "metadata": {
    "scrolled": true
   },
   "outputs": [
    {
     "name": "stdout",
     "output_type": "stream",
     "text": [
      "Train on 1202 samples, validate on 401 samples\n",
      "Epoch 1/50\n",
      "1202/1202 [==============================] - 4s 4ms/step - loss: 0.6998 - acc: 0.5075 - val_loss: 0.6901 - val_acc: 0.5486\n",
      "Epoch 2/50\n",
      "1202/1202 [==============================] - 1s 1ms/step - loss: 0.6908 - acc: 0.5491 - val_loss: 0.6878 - val_acc: 0.5611\n",
      "Epoch 3/50\n",
      "1202/1202 [==============================] - 1s 1ms/step - loss: 0.6931 - acc: 0.5474 - val_loss: 0.6875 - val_acc: 0.5586\n",
      "Epoch 4/50\n",
      "1202/1202 [==============================] - 2s 1ms/step - loss: 0.6886 - acc: 0.5599 - val_loss: 0.6866 - val_acc: 0.5561\n",
      "Epoch 5/50\n",
      "1202/1202 [==============================] - 2s 1ms/step - loss: 0.6864 - acc: 0.5632 - val_loss: 0.6851 - val_acc: 0.5586\n",
      "Epoch 6/50\n",
      "1202/1202 [==============================] - 2s 1ms/step - loss: 0.6857 - acc: 0.5557 - val_loss: 0.6849 - val_acc: 0.5636\n",
      "Epoch 7/50\n",
      "1202/1202 [==============================] - 1s 1ms/step - loss: 0.6891 - acc: 0.5632 - val_loss: 0.6851 - val_acc: 0.5636\n",
      "Epoch 8/50\n",
      "1202/1202 [==============================] - 2s 2ms/step - loss: 0.6891 - acc: 0.5591 - val_loss: 0.6859 - val_acc: 0.5636\n",
      "Epoch 9/50\n",
      "1202/1202 [==============================] - 2s 2ms/step - loss: 0.6834 - acc: 0.5599 - val_loss: 0.6857 - val_acc: 0.5636\n",
      "Epoch 10/50\n",
      "1202/1202 [==============================] - 2s 2ms/step - loss: 0.6828 - acc: 0.5582 - val_loss: 0.6847 - val_acc: 0.5636\n",
      "Epoch 11/50\n",
      "1202/1202 [==============================] - 2s 2ms/step - loss: 0.6867 - acc: 0.5599 - val_loss: 0.6839 - val_acc: 0.5636\n",
      "Epoch 12/50\n",
      "1202/1202 [==============================] - 2s 1ms/step - loss: 0.6779 - acc: 0.5707 - val_loss: 0.6732 - val_acc: 0.5636\n",
      "Epoch 13/50\n",
      "1202/1202 [==============================] - 2s 1ms/step - loss: 0.6683 - acc: 0.5641 - val_loss: 0.6666 - val_acc: 0.5586\n",
      "Epoch 14/50\n",
      "1202/1202 [==============================] - 2s 1ms/step - loss: 0.6530 - acc: 0.5840 - val_loss: 0.6616 - val_acc: 0.5636\n",
      "Epoch 15/50\n",
      "1202/1202 [==============================] - 2s 1ms/step - loss: 0.6233 - acc: 0.6090 - val_loss: 0.6592 - val_acc: 0.5611\n",
      "Epoch 16/50\n",
      "1202/1202 [==============================] - 2s 1ms/step - loss: 0.6095 - acc: 0.6223 - val_loss: 0.6548 - val_acc: 0.6010\n",
      "Epoch 17/50\n",
      "1202/1202 [==============================] - 2s 1ms/step - loss: 0.5856 - acc: 0.6839 - val_loss: 0.6563 - val_acc: 0.6284\n",
      "Epoch 18/50\n",
      "1202/1202 [==============================] - 2s 1ms/step - loss: 0.5592 - acc: 0.6905 - val_loss: 0.6693 - val_acc: 0.6209\n",
      "Epoch 19/50\n",
      "1202/1202 [==============================] - 2s 2ms/step - loss: 0.5360 - acc: 0.7221 - val_loss: 0.6536 - val_acc: 0.6135\n",
      "Epoch 20/50\n",
      "1202/1202 [==============================] - 2s 1ms/step - loss: 0.5063 - acc: 0.7587 - val_loss: 0.6675 - val_acc: 0.6010\n",
      "Epoch 21/50\n",
      "1202/1202 [==============================] - 2s 1ms/step - loss: 0.4838 - acc: 0.7704 - val_loss: 0.7866 - val_acc: 0.6160\n",
      "Epoch 22/50\n",
      "1202/1202 [==============================] - 2s 1ms/step - loss: 0.4949 - acc: 0.7671 - val_loss: 0.7072 - val_acc: 0.6060\n",
      "Epoch 23/50\n",
      "1202/1202 [==============================] - 2s 1ms/step - loss: 0.4727 - acc: 0.7795 - val_loss: 0.7787 - val_acc: 0.6185\n",
      "Epoch 24/50\n",
      "1202/1202 [==============================] - 2s 1ms/step - loss: 0.4779 - acc: 0.7887 - val_loss: 0.7391 - val_acc: 0.6035\n",
      "Epoch 25/50\n",
      "1202/1202 [==============================] - 2s 1ms/step - loss: 0.4491 - acc: 0.7937 - val_loss: 0.8727 - val_acc: 0.5910\n",
      "Epoch 26/50\n",
      "1202/1202 [==============================] - 2s 1ms/step - loss: 0.4513 - acc: 0.7820 - val_loss: 0.8057 - val_acc: 0.6035\n",
      "Epoch 27/50\n",
      "1202/1202 [==============================] - 2s 1ms/step - loss: 0.4355 - acc: 0.8012 - val_loss: 0.8124 - val_acc: 0.5935\n",
      "Epoch 28/50\n",
      "1202/1202 [==============================] - 2s 1ms/step - loss: 0.4495 - acc: 0.8028 - val_loss: 0.8666 - val_acc: 0.6160\n",
      "Epoch 29/50\n",
      "1202/1202 [==============================] - 2s 1ms/step - loss: 0.4330 - acc: 0.8028 - val_loss: 0.8585 - val_acc: 0.5985\n"
     ]
    },
    {
     "data": {
      "text/plain": [
       "<keras.callbacks.History at 0x1b0a43a90>"
      ]
     },
     "execution_count": 436,
     "metadata": {},
     "output_type": "execute_result"
    }
   ],
   "source": [
    "model2.fit([wv_train, sim_train], y_train,\n",
    "          epochs=50, batch_size=64, class_weight=y_train, validation_data = (\n",
    "              {'main_input': wv_val, 'aux_input': sim_val}, {'main_output': y_val}\n",
    "          ), callbacks=[es])"
   ]
  },
  {
   "cell_type": "code",
   "execution_count": 437,
   "metadata": {},
   "outputs": [
    {
     "name": "stdout",
     "output_type": "stream",
     "text": [
      "1202/1202 [==============================] - 1s 574us/step\n"
     ]
    },
    {
     "data": {
      "text/plain": [
       "[0.3595322126060873, 0.8594009984352823]"
      ]
     },
     "execution_count": 437,
     "metadata": {},
     "output_type": "execute_result"
    }
   ],
   "source": [
    "model2.evaluate([wv_train, sim_train], y_train)"
   ]
  },
  {
   "cell_type": "code",
   "execution_count": 438,
   "metadata": {},
   "outputs": [
    {
     "name": "stdout",
     "output_type": "stream",
     "text": [
      "401/401 [==============================] - 0s 550us/step\n"
     ]
    },
    {
     "data": {
      "text/plain": [
       "[0.8584535784852177, 0.5985037407226991]"
      ]
     },
     "execution_count": 438,
     "metadata": {},
     "output_type": "execute_result"
    }
   ],
   "source": [
    "model2.evaluate([wv_val, sim_val], y_val)"
   ]
  },
  {
   "cell_type": "code",
   "execution_count": 454,
   "metadata": {},
   "outputs": [
    {
     "name": "stdout",
     "output_type": "stream",
     "text": [
      "[[115 110]\n",
      " [ 51 125]]\n",
      "             precision    recall  f1-score   support\n",
      "\n",
      "          0       0.69      0.51      0.59       225\n",
      "          1       0.53      0.71      0.61       176\n",
      "\n",
      "avg / total       0.62      0.60      0.60       401\n",
      "\n"
     ]
    }
   ],
   "source": [
    "print(confusion_matrix(y_val, (model2.predict([wv_val, sim_val]).reshape(-1)>.5).astype(int)))\n",
    "print(classification_report(y_val, (model2.predict([wv_val, sim_val]).reshape(-1)>.5).astype(int)))"
   ]
  },
  {
   "cell_type": "code",
   "execution_count": 439,
   "metadata": {},
   "outputs": [
    {
     "name": "stdout",
     "output_type": "stream",
     "text": [
      "401/401 [==============================] - 0s 511us/step\n"
     ]
    },
    {
     "data": {
      "text/plain": [
       "[0.8790594981495579, 0.6134663349077886]"
      ]
     },
     "execution_count": 439,
     "metadata": {},
     "output_type": "execute_result"
    }
   ],
   "source": [
    "model2.evaluate([wv_test, sim_test], y_test)s"
   ]
  },
  {
   "cell_type": "code",
   "execution_count": 455,
   "metadata": {},
   "outputs": [
    {
     "name": "stdout",
     "output_type": "stream",
     "text": [
      "[[ 96 130]\n",
      " [ 70 105]]\n",
      "             precision    recall  f1-score   support\n",
      "\n",
      "          0       0.58      0.42      0.49       226\n",
      "          1       0.45      0.60      0.51       175\n",
      "\n",
      "avg / total       0.52      0.50      0.50       401\n",
      "\n"
     ]
    }
   ],
   "source": [
    "print(confusion_matrix(y_test, (model2.predict([wv_val, sim_test]).reshape(-1)>.5).astype(int)))\n",
    "print(classification_report(y_test, (model2.predict([wv_val, sim_test]).reshape(-1)>.5).astype(int)))"
   ]
  },
  {
   "cell_type": "code",
   "execution_count": 456,
   "metadata": {
    "collapsed": true
   },
   "outputs": [],
   "source": [
    "model2.save('lstm2')"
   ]
  },
  {
   "cell_type": "code",
   "execution_count": null,
   "metadata": {
    "collapsed": true
   },
   "outputs": [],
   "source": []
  }
 ],
 "metadata": {
  "kernelspec": {
   "display_name": "Python 3",
   "language": "python",
   "name": "python3"
  },
  "language_info": {
   "codemirror_mode": {
    "name": "ipython",
    "version": 3
   },
   "file_extension": ".py",
   "mimetype": "text/x-python",
   "name": "python",
   "nbconvert_exporter": "python",
   "pygments_lexer": "ipython3",
   "version": "3.6.1"
  }
 },
 "nbformat": 4,
 "nbformat_minor": 2
}
